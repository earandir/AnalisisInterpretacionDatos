{
 "cells": [
  {
   "cell_type": "code",
   "execution_count": 2,
   "id": "f8f94d06",
   "metadata": {},
   "outputs": [
    {
     "name": "stdout",
     "output_type": "stream",
     "text": [
      "Collecting pandas\n",
      "  Downloading pandas-1.3.5-cp37-cp37m-win_amd64.whl (10.0 MB)\n",
      "Collecting numpy>=1.17.3\n",
      "  Downloading numpy-1.21.5-cp37-cp37m-win_amd64.whl (14.0 MB)\n",
      "Requirement already satisfied: python-dateutil>=2.7.3 in c:\\users\\carlos~1.loz\\appdata\\local\\r-mini~1\\envs\\rstudio-\\lib\\site-packages (from pandas) (2.8.2)\n",
      "Collecting pytz>=2017.3\n",
      "  Using cached pytz-2021.3-py2.py3-none-any.whl (503 kB)\n",
      "Requirement already satisfied: six>=1.5 in c:\\users\\carlos~1.loz\\appdata\\local\\r-mini~1\\envs\\rstudio-\\lib\\site-packages (from python-dateutil>=2.7.3->pandas) (1.16.0)\n",
      "Installing collected packages: pytz, numpy, pandas\n",
      "Successfully installed numpy-1.21.5 pandas-1.3.5 pytz-2021.3\n"
     ]
    }
   ],
   "source": [
    "#!pip install seaborn\n",
    "#!pip install pandas"
   ]
  },
  {
   "cell_type": "code",
   "execution_count": 1,
   "id": "c4e24968",
   "metadata": {},
   "outputs": [],
   "source": [
    "import pandas as pd\n",
    "import seaborn as sns\n",
    "import matplotlib.pyplot as plt"
   ]
  },
  {
   "cell_type": "code",
   "execution_count": 2,
   "id": "aa9441bc",
   "metadata": {
    "scrolled": true
   },
   "outputs": [
    {
     "name": "stderr",
     "output_type": "stream",
     "text": [
      "C:\\Users\\CARLOS~1.LOZ\\AppData\\Local\\R-MINI~1\\envs\\rstudio-\\lib\\site-packages\\IPython\\core\\interactiveshell.py:3457: DtypeWarning: Columns (38) have mixed types.Specify dtype option on import or set low_memory=False.\n",
      "  exec(code_obj, self.user_global_ns, self.user_ns)\n"
     ]
    }
   ],
   "source": [
    "covid = pd.read_csv('220227COVID19MEXICO.csv',  low_memory=True)"
   ]
  },
  {
   "cell_type": "code",
   "execution_count": 47,
   "id": "6914e8e2",
   "metadata": {},
   "outputs": [],
   "source": [
    "sexgrouped = covid.groupby('SEXO').size()"
   ]
  },
  {
   "cell_type": "code",
   "execution_count": 48,
   "id": "949c4443",
   "metadata": {},
   "outputs": [
    {
     "data": {
      "text/plain": [
       "SEXO\n",
       "1    8028538\n",
       "2    7055899\n",
       "dtype: int64"
      ]
     },
     "execution_count": 48,
     "metadata": {},
     "output_type": "execute_result"
    }
   ],
   "source": [
    "sexgrouped.head()"
   ]
  },
  {
   "cell_type": "code",
   "execution_count": 49,
   "id": "a7db6002",
   "metadata": {},
   "outputs": [],
   "source": [
    "covid.loc[covid.FECHA_DEF != \"9999-99-99\", \"VIVO\"] = int(0)"
   ]
  },
  {
   "cell_type": "code",
   "execution_count": 50,
   "id": "21697e9d",
   "metadata": {},
   "outputs": [],
   "source": [
    "covid.loc[covid.FECHA_DEF == \"9999-99-99\", \"VIVO\"] = int(1)"
   ]
  },
  {
   "cell_type": "code",
   "execution_count": 51,
   "id": "f29cb297",
   "metadata": {},
   "outputs": [
    {
     "data": {
      "text/plain": [
       "VIVO\n",
       "0.0      408502\n",
       "1.0    14675935\n",
       "dtype: int64"
      ]
     },
     "execution_count": 51,
     "metadata": {},
     "output_type": "execute_result"
    }
   ],
   "source": [
    "covid.groupby('VIVO').size()"
   ]
  },
  {
   "cell_type": "code",
   "execution_count": 52,
   "id": "6b95ccb7",
   "metadata": {},
   "outputs": [],
   "source": [
    "sexgrouped = covid.groupby(['SEXO', 'VIVO']).size().reset_index(name='count') "
   ]
  },
  {
   "cell_type": "code",
   "execution_count": 59,
   "id": "b61268d2",
   "metadata": {},
   "outputs": [],
   "source": [
    "sexgrouped = sexgrouped.astype(int)"
   ]
  },
  {
   "cell_type": "code",
   "execution_count": 60,
   "id": "9fc88bdc",
   "metadata": {},
   "outputs": [
    {
     "data": {
      "text/html": [
       "<div>\n",
       "<style scoped>\n",
       "    .dataframe tbody tr th:only-of-type {\n",
       "        vertical-align: middle;\n",
       "    }\n",
       "\n",
       "    .dataframe tbody tr th {\n",
       "        vertical-align: top;\n",
       "    }\n",
       "\n",
       "    .dataframe thead th {\n",
       "        text-align: right;\n",
       "    }\n",
       "</style>\n",
       "<table border=\"1\" class=\"dataframe\">\n",
       "  <thead>\n",
       "    <tr style=\"text-align: right;\">\n",
       "      <th></th>\n",
       "      <th>SEXO</th>\n",
       "      <th>VIVO</th>\n",
       "      <th>count</th>\n",
       "    </tr>\n",
       "  </thead>\n",
       "  <tbody>\n",
       "    <tr>\n",
       "      <th>0</th>\n",
       "      <td>1</td>\n",
       "      <td>0</td>\n",
       "      <td>158763</td>\n",
       "    </tr>\n",
       "    <tr>\n",
       "      <th>1</th>\n",
       "      <td>1</td>\n",
       "      <td>1</td>\n",
       "      <td>7869775</td>\n",
       "    </tr>\n",
       "    <tr>\n",
       "      <th>2</th>\n",
       "      <td>2</td>\n",
       "      <td>0</td>\n",
       "      <td>249739</td>\n",
       "    </tr>\n",
       "    <tr>\n",
       "      <th>3</th>\n",
       "      <td>2</td>\n",
       "      <td>1</td>\n",
       "      <td>6806160</td>\n",
       "    </tr>\n",
       "  </tbody>\n",
       "</table>\n",
       "</div>"
      ],
      "text/plain": [
       "   SEXO  VIVO    count\n",
       "0     1     0   158763\n",
       "1     1     1  7869775\n",
       "2     2     0   249739\n",
       "3     2     1  6806160"
      ]
     },
     "execution_count": 60,
     "metadata": {},
     "output_type": "execute_result"
    }
   ],
   "source": [
    "sexgrouped.head()"
   ]
  },
  {
   "cell_type": "code",
   "execution_count": 62,
   "id": "6cce0cc5",
   "metadata": {},
   "outputs": [],
   "source": [
    "sexgrouped.to_csv('SexDefGroup.csv', index=False)"
   ]
  },
  {
   "cell_type": "code",
   "execution_count": 31,
   "id": "60b59ac2",
   "metadata": {},
   "outputs": [],
   "source": [
    "porfechasexo = pd.concat([porfecha[['FECHA_ACTUALIZACION']], defunciones[['FECHA_ACTUALIZACION']]], axis=1).fillna(0).reset_index()"
   ]
  },
  {
   "cell_type": "code",
   "execution_count": 32,
   "id": "9d7d0159",
   "metadata": {},
   "outputs": [],
   "source": [
    "porfechasexo.drop(porfechasexo.tail(1).index,inplace=True) # drop last n rows"
   ]
  },
  {
   "cell_type": "code",
   "execution_count": 53,
   "id": "d894927b",
   "metadata": {},
   "outputs": [],
   "source": [
    "temp = porfechasexo.droplevel(level=0, axis=1)"
   ]
  },
  {
   "cell_type": "code",
   "execution_count": 65,
   "id": "a3ac90de",
   "metadata": {},
   "outputs": [],
   "source": [
    "temp.rename(columns={temp.columns[0]: 'Fecha', \n",
    "                     temp.columns[1]: 'CasosFem', temp.columns[2]: 'CasosMas', \n",
    "                     temp.columns[3]: 'DefFem', temp.columns[4]: 'DefMas'}, inplace=True)\n"
   ]
  },
  {
   "cell_type": "code",
   "execution_count": 73,
   "id": "1aa39cb1",
   "metadata": {},
   "outputs": [],
   "source": [
    "sum_column = temp.iloc[:,3] + temp.iloc[:,4]\n",
    "temp[\"TotalDef\"] = sum_column"
   ]
  },
  {
   "cell_type": "code",
   "execution_count": 71,
   "id": "6ab33819",
   "metadata": {},
   "outputs": [],
   "source": [
    "temp.iloc[:,3].to_csv('DefuncionesFemeninas.csv', index=False)"
   ]
  },
  {
   "cell_type": "code",
   "execution_count": 72,
   "id": "89eda115",
   "metadata": {},
   "outputs": [],
   "source": [
    "temp.iloc[:,4].to_csv('DefuncionesMasculinas.csv', index=False)"
   ]
  },
  {
   "cell_type": "code",
   "execution_count": 76,
   "id": "b8eef2dc",
   "metadata": {},
   "outputs": [],
   "source": [
    "temp['TotalDef'].to_csv('TotalDefunciones.csv', index=False)\n"
   ]
  }
 ],
 "metadata": {
  "kernelspec": {
   "display_name": "Python 3 (ipykernel)",
   "language": "python",
   "name": "python3"
  },
  "language_info": {
   "codemirror_mode": {
    "name": "ipython",
    "version": 3
   },
   "file_extension": ".py",
   "mimetype": "text/x-python",
   "name": "python",
   "nbconvert_exporter": "python",
   "pygments_lexer": "ipython3",
   "version": "3.7.1"
  }
 },
 "nbformat": 4,
 "nbformat_minor": 5
}
